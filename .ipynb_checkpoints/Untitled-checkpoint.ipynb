{
 "cells": [
  {
   "cell_type": "markdown",
   "id": "9723c2f6",
   "metadata": {},
   "source": [
    "# Word Clouds from multiple news source"
   ]
  },
  {
   "cell_type": "code",
   "execution_count": 1,
   "id": "521fbcaf",
   "metadata": {},
   "outputs": [
    {
     "name": "stdout",
     "output_type": "stream",
     "text": [
      "Requirement already satisfied: newsapi-python in c:\\users\\ony43\\anaconda3\\lib\\site-packages (0.2.6)\n",
      "Requirement already satisfied: requests<3.0.0 in c:\\users\\ony43\\anaconda3\\lib\\site-packages (from newsapi-python) (2.25.1)\n",
      "Requirement already satisfied: chardet<5,>=3.0.2 in c:\\users\\ony43\\anaconda3\\lib\\site-packages (from requests<3.0.0->newsapi-python) (4.0.0)\n",
      "Requirement already satisfied: certifi>=2017.4.17 in c:\\users\\ony43\\anaconda3\\lib\\site-packages (from requests<3.0.0->newsapi-python) (2020.12.5)\n",
      "Requirement already satisfied: urllib3<1.27,>=1.21.1 in c:\\users\\ony43\\anaconda3\\lib\\site-packages (from requests<3.0.0->newsapi-python) (1.26.4)\n",
      "Requirement already satisfied: idna<3,>=2.5 in c:\\users\\ony43\\anaconda3\\lib\\site-packages (from requests<3.0.0->newsapi-python) (2.10)\n"
     ]
    }
   ],
   "source": [
    "!pip install newsapi-python"
   ]
  },
  {
   "cell_type": "code",
   "execution_count": 2,
   "id": "0f72105c",
   "metadata": {},
   "outputs": [],
   "source": [
    "import pandas as pd"
   ]
  },
  {
   "cell_type": "code",
   "execution_count": 3,
   "id": "34b5f763",
   "metadata": {},
   "outputs": [],
   "source": [
    "import numpy as np"
   ]
  },
  {
   "cell_type": "code",
   "execution_count": 4,
   "id": "f427ac67",
   "metadata": {},
   "outputs": [],
   "source": [
    "from datetime import *"
   ]
  },
  {
   "cell_type": "code",
   "execution_count": 5,
   "id": "5ce6736b",
   "metadata": {},
   "outputs": [],
   "source": [
    "from newsapi import NewsApiClient"
   ]
  },
  {
   "cell_type": "code",
   "execution_count": 6,
   "id": "90796007",
   "metadata": {},
   "outputs": [],
   "source": [
    "newsapi = NewsApiClient(api_key='5f921c126ca94bfc8afd8accaf02bef9')"
   ]
  },
  {
   "cell_type": "code",
   "execution_count": 7,
   "id": "1dcd3246",
   "metadata": {},
   "outputs": [],
   "source": [
    "sources = newsapi.get_sources()"
   ]
  },
  {
   "cell_type": "code",
   "execution_count": 8,
   "id": "1b16e746",
   "metadata": {},
   "outputs": [],
   "source": [
    "sources_list = []"
   ]
  },
  {
   "cell_type": "code",
   "execution_count": 9,
   "id": "ebc35192",
   "metadata": {},
   "outputs": [
    {
     "ename": "SyntaxError",
     "evalue": "invalid character in identifier (<ipython-input-9-f7ca39771d12>, line 3)",
     "output_type": "error",
     "traceback": [
      "\u001b[1;36m  File \u001b[1;32m\"<ipython-input-9-f7ca39771d12>\"\u001b[1;36m, line \u001b[1;32m3\u001b[0m\n\u001b[1;33m    for source in sources[‘sources’]:\u001b[0m\n\u001b[1;37m                                  ^\u001b[0m\n\u001b[1;31mSyntaxError\u001b[0m\u001b[1;31m:\u001b[0m invalid character in identifier\n"
     ]
    }
   ],
   "source": [
    "sources = newsapi.get_sources()\n",
    "sources_list = []\n",
    "for source in sources[‘sources’]:\n",
    "    sources_list.append(source[‘id’])\n",
    "    print(len(sources_list))\n",
    "    sources_list"
   ]
  },
  {
   "cell_type": "code",
   "execution_count": null,
   "id": "44e88f3a",
   "metadata": {},
   "outputs": [],
   "source": []
  }
 ],
 "metadata": {
  "kernelspec": {
   "display_name": "Python 3",
   "language": "python",
   "name": "python3"
  },
  "language_info": {
   "codemirror_mode": {
    "name": "ipython",
    "version": 3
   },
   "file_extension": ".py",
   "mimetype": "text/x-python",
   "name": "python",
   "nbconvert_exporter": "python",
   "pygments_lexer": "ipython3",
   "version": "3.8.8"
  }
 },
 "nbformat": 4,
 "nbformat_minor": 5
}
